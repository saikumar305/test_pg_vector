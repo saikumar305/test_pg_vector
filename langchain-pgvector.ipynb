{
 "cells": [
  {
   "cell_type": "code",
   "execution_count": 1,
   "metadata": {},
   "outputs": [],
   "source": [
    "import psycopg2\n",
    "\n",
    "\n",
    "conn = psycopg2.connect(\n",
    "    host=\"localhost\",\n",
    "    database=\"postgres\",\n",
    "    user=\"newuser\",\n",
    "    password=\"password\",\n",
    "    port=\"5432\"\n",
    ")"
   ]
  },
  {
   "cell_type": "code",
   "execution_count": 21,
   "metadata": {},
   "outputs": [],
   "source": []
  },
  {
   "cell_type": "code",
   "execution_count": 2,
   "metadata": {},
   "outputs": [],
   "source": [
    "with conn.cursor() as cur:\n",
    "    cur.execute(\"CREATE TABLE tst (i int4, v vector(3));\")\n",
    "    cur.execute(\"INSERT INTO tst SELECT i, ARRAY[random(), random(), random()] FROM generate_series(1, 10000) i;\")\n",
    "    cur.execute(\"CREATE INDEX ON tst USING ivfflat (v vector_l2_ops);\")\n",
    "    cur.execute(\"CREATE INDEX ON tst USING hnsw (v vector_l2_ops);\")    "
   ]
  },
  {
   "cell_type": "code",
   "execution_count": 25,
   "metadata": {},
   "outputs": [
    {
     "name": "stdout",
     "output_type": "stream",
     "text": [
      "(10000,)\n",
      "(1,)\n",
      "(1,)\n"
     ]
    }
   ],
   "source": [
    "with conn.cursor() as cur:\n",
    "    cur.execute(\"SELECT count(*) FROM tst;\")\n",
    "    print(cur.fetchone())\n",
    "    cur.execute(\"SELECT count(*) FROM tst WHERE i = 1;\")\n",
    "    print(cur.fetchone())\n",
    "    cur.execute(\"SELECT count(*) FROM tst WHERE i = 2;\")\n",
    "    print(cur.fetchone())\n",
    "    cur.execute(\"SELECT count(*) FROM tst WHERE i = 3;\")"
   ]
  },
  {
   "cell_type": "code",
   "execution_count": null,
   "metadata": {},
   "outputs": [],
   "source": []
  }
 ],
 "metadata": {
  "kernelspec": {
   "display_name": "base",
   "language": "python",
   "name": "python3"
  },
  "language_info": {
   "codemirror_mode": {
    "name": "ipython",
    "version": 3
   },
   "file_extension": ".py",
   "mimetype": "text/x-python",
   "name": "python",
   "nbconvert_exporter": "python",
   "pygments_lexer": "ipython3",
   "version": "3.11.5"
  }
 },
 "nbformat": 4,
 "nbformat_minor": 2
}
